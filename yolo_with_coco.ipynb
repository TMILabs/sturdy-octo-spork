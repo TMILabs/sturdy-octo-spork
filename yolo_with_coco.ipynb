{
 "cells": [
  {
   "cell_type": "code",
   "execution_count": 1,
   "metadata": {},
   "outputs": [],
   "source": [
    "import cv2\n",
    "import numpy as np\n",
    "import requests\n",
    "from pathlib import Path\n",
    "\n",
    "pwd = Path.cwd()\n",
    "dataset_path = pwd / \"dataset.mp4\"\n"
   ]
  },
  {
   "cell_type": "code",
   "execution_count": 2,
   "metadata": {},
   "outputs": [],
   "source": [
    "ftd = dict(  # files to download\n",
    "    names=[\"yolov3-spp.weights\", \"coco.names\", \"yolov3-spp.cfg\", \"dataset.mp4\"],\n",
    "    links=[\n",
    "        \"https://pjreddie.com/media/files/yolov3-spp.weights\",\n",
    "        \"https://github.com/pjreddie/darknet/raw/master/data/coco.names\",\n",
    "        \"https://github.com/pjreddie/darknet/raw/master/cfg/yolov3-spp.cfg\",\n",
    "        \"https://shorturl.at/lAL56\",\n",
    "    ],\n",
    ")\n",
    "\n",
    "\n",
    "def download_files(name: str, link: str) -> None:\n",
    "    r = requests.get(link, allow_redirects=True)\n",
    "    with open(name, \"wb\") as f:\n",
    "        f.write(r.content)\n",
    "\n",
    "\n",
    "for name, link in zip(ftd[\"names\"], ftd[\"links\"]):\n",
    "    if not (pwd / name).exists():  # Проверка на наличие нужных файлов\n",
    "        download_files(name, link)\n"
   ]
  },
  {
   "cell_type": "code",
   "execution_count": 3,
   "metadata": {},
   "outputs": [],
   "source": [
    "cap = cv2.VideoCapture(str(dataset_path))  # для вывода видео\n",
    "\n",
    "whT = 320  # idk what is that\n",
    "confThreshold = 0.5\n",
    "nmsThreshold = 0.3\n"
   ]
  },
  {
   "cell_type": "code",
   "execution_count": 4,
   "metadata": {},
   "outputs": [],
   "source": [
    "classesFile = \"coco.names\"  # для классов YOLO штука (чтобы искать не только котов, а и машин, например)\n",
    "classNames = []\n",
    "with open(classesFile, \"rt\") as f:\n",
    "    classNames = f.read().rstrip(\"\\n\").split(\"\\n\")\n",
    "\n",
    "modelConfiguration = \"yolov3-spp.cfg\"  # подгрузка YOLO3-spp\n",
    "modelWeights = \"yolov3-spp.weights\"\n",
    "net = cv2.dnn.readNetFromDarknet(modelConfiguration, modelWeights)\n",
    "net.setPreferableBackend(cv2.dnn.DNN_BACKEND_OPENCV)\n",
    "net.setPreferableTarget(cv2.dnn.DNN_TARGET_CPU)\n"
   ]
  },
  {
   "cell_type": "code",
   "execution_count": 5,
   "metadata": {},
   "outputs": [],
   "source": [
    "# функция, для нахождения котиков UwU :з\n",
    "def findObjects(outputs, img):\n",
    "    hT, wT, cT = img.shape\n",
    "    bbox = []\n",
    "    classIds = []\n",
    "    confs = []\n",
    "\n",
    "    for output in outputs:\n",
    "        for det in output:\n",
    "            scores = det[5:]\n",
    "            classId = np.argmax(scores)\n",
    "            confidence = scores[classId]\n",
    "            if confidence > confThreshold:\n",
    "                w, h = int(det[2] * wT), int(det[3] * hT)\n",
    "                x, y = int(det[0] * wT) - w / 2, int(det[1] * hT) - h / 2\n",
    "                bbox.append([x, y, w, h])\n",
    "                classIds.append(classId)\n",
    "                confs.append(float(confidence))\n",
    "    indices = cv2.dnn.NMSBoxes(bbox, confs, confThreshold, nmsThreshold)\n",
    "    for i in indices:\n",
    "        if classNames[classIds[i]] == \"cat\":\n",
    "            box = bbox[i]\n",
    "            x, y, w, h = box[0], box[1], box[2], box[3]\n",
    "            cv2.rectangle(\n",
    "                img, (int(x), int(y)), (int(x + w), int(y + h)), (255, 0, 0), 2\n",
    "            )\n",
    "            cv2.putText(\n",
    "                img,\n",
    "                f\"Cat {int(confs[i]*100)}%\",\n",
    "                (int(x), int(y - 10)),\n",
    "                cv2.FONT_HERSHEY_SIMPLEX,\n",
    "                0.6,\n",
    "                (255, 0, 255),\n",
    "                2,\n",
    "            )\n"
   ]
  },
  {
   "cell_type": "code",
   "execution_count": 6,
   "metadata": {},
   "outputs": [],
   "source": [
    "while True:\n",
    "    success, img = cap.read()\n",
    "    if not success:\n",
    "        # cv2.destroyAllWindows()\n",
    "        break\n",
    "    blob = cv2.dnn.blobFromImage(img, 1 / 255, (whT, whT), [0, 0, 0], 1, crop=False)\n",
    "    net.setInput(blob)\n",
    "    layerNames = net.getLayerNames()\n",
    "    outputNames = [layerNames[i - 1] for i in net.getUnconnectedOutLayers()]\n",
    "    outputs = net.forward(outputNames)\n",
    "\n",
    "    findObjects(outputs, img)\n",
    "\n",
    "    cv2.imshow(\"Image\", img)\n",
    "    cv2.waitKey(1)\n"
   ]
  }
 ],
 "metadata": {
  "interpreter": {
   "hash": "91de9dface688b0dd20a3085c2ed00be818e7f2a4078c14d79ed11bf27ab375d"
  },
  "kernelspec": {
   "display_name": "Python 3.10.2 64-bit",
   "language": "python",
   "name": "python3"
  },
  "language_info": {
   "codemirror_mode": {
    "name": "ipython",
    "version": 3
   },
   "file_extension": ".py",
   "mimetype": "text/x-python",
   "name": "python",
   "nbconvert_exporter": "python",
   "pygments_lexer": "ipython3",
   "version": "3.8.10"
  },
  "orig_nbformat": 4
 },
 "nbformat": 4,
 "nbformat_minor": 2
}
