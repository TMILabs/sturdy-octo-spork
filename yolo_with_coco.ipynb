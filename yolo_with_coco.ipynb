{
 "cells": [
  {
   "cell_type": "code",
   "execution_count": 14,
   "metadata": {},
   "outputs": [],
   "source": [
    "import cv2\n",
    "import numpy as np\n",
    "import requests\n",
    "from urllib.parse import urlencode\n",
    "from pathlib import Path\n",
    "\n",
    "pwd = Path.cwd()\n",
    "dataset_path = pwd / \"dataset.mp4\"\n"
   ]
  },
  {
   "cell_type": "code",
   "execution_count": 15,
   "metadata": {},
   "outputs": [],
   "source": [
    "base_url = 'https://cloud-api.yandex.net/v1/disk/public/resources/download?'\n",
    "video_on_yandex_disk = 'https://disk.yandex.ru/i/MFfiANmh1QulrQ'\n",
    "final_url = base_url + urlencode(dict(public_key=video_on_yandex_disk))\n",
    "response = requests.get(final_url)\n",
    "download_url = response.json()['href']\n"
   ]
  },
  {
   "cell_type": "code",
   "execution_count": 16,
   "metadata": {},
   "outputs": [
    {
     "name": "stdout",
     "output_type": "stream",
     "text": [
      "Downloading dataset.mp4, wait...\n",
      "Done (dataset.mp4).\n"
     ]
    }
   ],
   "source": [
    "ftd = dict(  # files to download\n",
    "    names=[\"yolov3-spp.weights\", \"coco.names\", \"yolov3-spp.cfg\", \"dataset.mp4\"],\n",
    "    links=[\n",
    "        \"https://pjreddie.com/media/files/yolov3-spp.weights\",\n",
    "        \"https://github.com/pjreddie/darknet/raw/master/data/coco.names\",\n",
    "        \"https://github.com/pjreddie/darknet/raw/master/cfg/yolov3-spp.cfg\",\n",
    "        download_url,\n",
    "    ],\n",
    ")\n",
    "\n",
    "\n",
    "def download(name: str, link: str) -> None:\n",
    "    print(f\"Downloading {name}, wait...\")\n",
    "    r = requests.get(link, allow_redirects=True)\n",
    "    with open(name, \"wb\") as f:\n",
    "        f.write(r.content)\n",
    "    print(f\"Done ({name}).\")\n",
    "\n",
    "\n",
    "for name, link in zip(ftd[\"names\"], ftd[\"links\"]):\n",
    "    if not (pwd / name).exists():  # Проверка на наличие нужных файлов\n",
    "        download(name, link)\n"
   ]
  },
  {
   "cell_type": "code",
   "execution_count": 17,
   "metadata": {},
   "outputs": [],
   "source": [
    "cap = cv2.VideoCapture(str(dataset_path))  # для вывода видео\n",
    "if not cap.isOpened():\n",
    "    raise Exception(\"Can't open video\")\n",
    "\n",
    "whT = 320  # idk what is that\n",
    "confThreshold = 0.5\n",
    "nmsThreshold = 0.3\n"
   ]
  },
  {
   "cell_type": "code",
   "execution_count": 18,
   "metadata": {},
   "outputs": [],
   "source": [
    "classesFile = \"coco.names\"  # для классов YOLO штука (чтобы искать не только котов, а и машин, например)\n",
    "classNames = []\n",
    "with open(classesFile, \"rt\") as f:\n",
    "    classNames = f.read().rstrip(\"\\n\").split(\"\\n\")\n",
    "\n",
    "modelConfiguration = \"yolov3-spp.cfg\"  # подгрузка YOLO3-spp\n",
    "modelWeights = \"yolov3-spp.weights\"\n",
    "net = cv2.dnn.readNetFromDarknet(modelConfiguration, modelWeights)\n",
    "net.setPreferableBackend(cv2.dnn.DNN_BACKEND_OPENCV)\n",
    "net.setPreferableTarget(cv2.dnn.DNN_TARGET_CPU)\n"
   ]
  },
  {
   "cell_type": "code",
   "execution_count": 19,
   "metadata": {},
   "outputs": [],
   "source": [
    "# функция, для нахождения котиков UwU :з\n",
    "def findObjects(outputs, img):\n",
    "    hT, wT, cT = img.shape\n",
    "    bbox = []\n",
    "    classIds = []\n",
    "    confs = []\n",
    "\n",
    "    for output in outputs:\n",
    "        for det in output:\n",
    "            scores = det[5:]\n",
    "            classId = np.argmax(scores)\n",
    "            confidence = scores[classId]\n",
    "            if confidence > confThreshold:\n",
    "                w, h = int(det[2] * wT), int(det[3] * hT)\n",
    "                x, y = int(det[0] * wT) - w / 2, int(det[1] * hT) - h / 2\n",
    "                bbox.append([x, y, w, h])\n",
    "                classIds.append(classId)\n",
    "                confs.append(float(confidence))\n",
    "    indices = cv2.dnn.NMSBoxes(bbox, confs, confThreshold, nmsThreshold)\n",
    "    for i in indices:\n",
    "        if classNames[classIds[i]] == \"cat\":\n",
    "            box = bbox[i]\n",
    "            x, y, w, h = box[0], box[1], box[2], box[3]\n",
    "            cv2.rectangle(\n",
    "                img, (int(x), int(y)), (int(x + w), int(y + h)), (255, 0, 0), 2\n",
    "            )\n",
    "            cv2.putText(\n",
    "                img,\n",
    "                f\"Cat {int(confs[i]*100)}%\",\n",
    "                (int(x), int(y - 10)),\n",
    "                cv2.FONT_HERSHEY_SIMPLEX,\n",
    "                0.6,\n",
    "                (255, 0, 255),\n",
    "                2,\n",
    "            )\n"
   ]
  },
  {
   "cell_type": "code",
   "execution_count": 20,
   "metadata": {},
   "outputs": [
    {
     "ename": "KeyboardInterrupt",
     "evalue": "",
     "output_type": "error",
     "traceback": [
      "\u001b[0;31m---------------------------------------------------------------------------\u001b[0m",
      "\u001b[0;31mKeyboardInterrupt\u001b[0m                         Traceback (most recent call last)",
      "\u001b[1;32m/home/aleksul/Projects/sturdy-octo-spork/yolo_with_coco.ipynb Cell 7'\u001b[0m in \u001b[0;36m<module>\u001b[0;34m\u001b[0m\n\u001b[1;32m      <a href='vscode-notebook-cell:/home/aleksul/Projects/sturdy-octo-spork/yolo_with_coco.ipynb#ch0000005?line=4'>5</a>\u001b[0m layerNames \u001b[39m=\u001b[39m net\u001b[39m.\u001b[39mgetLayerNames()\n\u001b[1;32m      <a href='vscode-notebook-cell:/home/aleksul/Projects/sturdy-octo-spork/yolo_with_coco.ipynb#ch0000005?line=5'>6</a>\u001b[0m outputNames \u001b[39m=\u001b[39m [layerNames[i \u001b[39m-\u001b[39m \u001b[39m1\u001b[39m] \u001b[39mfor\u001b[39;00m i \u001b[39min\u001b[39;00m net\u001b[39m.\u001b[39mgetUnconnectedOutLayers()]\n\u001b[0;32m----> <a href='vscode-notebook-cell:/home/aleksul/Projects/sturdy-octo-spork/yolo_with_coco.ipynb#ch0000005?line=6'>7</a>\u001b[0m outputs \u001b[39m=\u001b[39m net\u001b[39m.\u001b[39;49mforward(outputNames)\n\u001b[1;32m      <a href='vscode-notebook-cell:/home/aleksul/Projects/sturdy-octo-spork/yolo_with_coco.ipynb#ch0000005?line=8'>9</a>\u001b[0m findObjects(outputs, img)\n\u001b[1;32m     <a href='vscode-notebook-cell:/home/aleksul/Projects/sturdy-octo-spork/yolo_with_coco.ipynb#ch0000005?line=10'>11</a>\u001b[0m cv2\u001b[39m.\u001b[39mimshow(\u001b[39m\"\u001b[39m\u001b[39mImage\u001b[39m\u001b[39m\"\u001b[39m, img)\n",
      "\u001b[0;31mKeyboardInterrupt\u001b[0m: "
     ]
    }
   ],
   "source": [
    "for _ in range(int(cap.get(cv2.CAP_PROP_FRAME_COUNT))-1):\n",
    "    _, img = cap.read()\n",
    "    blob = cv2.dnn.blobFromImage(img, 1 / 255, (whT, whT), [0, 0, 0], 1, crop=False)\n",
    "    net.setInput(blob)\n",
    "    layerNames = net.getLayerNames()\n",
    "    outputNames = [layerNames[i - 1] for i in net.getUnconnectedOutLayers()]\n",
    "    outputs = net.forward(outputNames)\n",
    "\n",
    "    findObjects(outputs, img)\n",
    "\n",
    "    cv2.imshow(\"Image\", img)\n",
    "    cv2.waitKey(1)\n",
    "\n",
    "cap.release()\n",
    "cv2.destroyAllWindows()\n"
   ]
  }
 ],
 "metadata": {
  "interpreter": {
   "hash": "91de9dface688b0dd20a3085c2ed00be818e7f2a4078c14d79ed11bf27ab375d"
  },
  "kernelspec": {
   "display_name": "Python 3.10.2 64-bit",
   "language": "python",
   "name": "python3"
  },
  "language_info": {
   "codemirror_mode": {
    "name": "ipython",
    "version": 3
   },
   "file_extension": ".py",
   "mimetype": "text/x-python",
   "name": "python",
   "nbconvert_exporter": "python",
   "pygments_lexer": "ipython3",
   "version": "3.8.10"
  },
  "orig_nbformat": 4
 },
 "nbformat": 4,
 "nbformat_minor": 2
}
