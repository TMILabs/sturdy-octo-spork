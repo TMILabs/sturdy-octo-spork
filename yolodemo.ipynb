{
 "cells": [
  {
   "cell_type": "code",
   "execution_count": 4,
   "metadata": {},
   "outputs": [
    {
     "name": "stdout",
     "output_type": "stream",
     "text": [
      "<class 'bytes'>\n"
     ]
    },
    {
     "ename": "TypeError",
     "evalue": "write() argument must be str, not bytes",
     "output_type": "error",
     "traceback": [
      "\u001b[1;31m---------------------------------------------------------------------------\u001b[0m",
      "\u001b[1;31mTypeError\u001b[0m                                 Traceback (most recent call last)",
      "\u001b[1;32mc:\\homework\\python\\TMIL\\sturdy-octo-spork\\yolodemo.ipynb Cell 1'\u001b[0m in \u001b[0;36m<module>\u001b[1;34m\u001b[0m\n\u001b[0;32m     <a href='vscode-notebook-cell:/c%3A/homework/python/TMIL/sturdy-octo-spork/yolodemo.ipynb#ch0000000?line=22'>23</a>\u001b[0m \u001b[39mfor\u001b[39;00m i \u001b[39min\u001b[39;00m links:\n\u001b[0;32m     <a href='vscode-notebook-cell:/c%3A/homework/python/TMIL/sturdy-octo-spork/yolodemo.ipynb#ch0000000?line=23'>24</a>\u001b[0m     \u001b[39mif\u001b[39;00m(\u001b[39mnot\u001b[39;00m os\u001b[39m.\u001b[39mpath\u001b[39m.\u001b[39mexists(\u001b[39mf\u001b[39m\u001b[39m'\u001b[39m\u001b[39m./\u001b[39m\u001b[39m{\u001b[39;00mi[\u001b[39m2\u001b[39m]\u001b[39m}\u001b[39;00m\u001b[39m'\u001b[39m)):\n\u001b[1;32m---> <a href='vscode-notebook-cell:/c%3A/homework/python/TMIL/sturdy-octo-spork/yolodemo.ipynb#ch0000000?line=24'>25</a>\u001b[0m         downloadFiles(i[\u001b[39m0\u001b[39;49m],i[\u001b[39m2\u001b[39;49m],i[\u001b[39m1\u001b[39;49m])\n\u001b[0;32m     <a href='vscode-notebook-cell:/c%3A/homework/python/TMIL/sturdy-octo-spork/yolodemo.ipynb#ch0000000?line=27'>28</a>\u001b[0m classesFile \u001b[39m=\u001b[39m \u001b[39m'\u001b[39m\u001b[39mcoco.names\u001b[39m\u001b[39m'\u001b[39m\u001b[39m#для классов YOLO штука (чтобы искать не только котов, а и машин, например)\u001b[39;00m\n\u001b[0;32m     <a href='vscode-notebook-cell:/c%3A/homework/python/TMIL/sturdy-octo-spork/yolodemo.ipynb#ch0000000?line=28'>29</a>\u001b[0m classNames \u001b[39m=\u001b[39m []\n",
      "\u001b[1;32mc:\\homework\\python\\TMIL\\sturdy-octo-spork\\yolodemo.ipynb Cell 1'\u001b[0m in \u001b[0;36mdownloadFiles\u001b[1;34m(link, name, typeOfFile)\u001b[0m\n\u001b[0;32m     <a href='vscode-notebook-cell:/c%3A/homework/python/TMIL/sturdy-octo-spork/yolodemo.ipynb#ch0000000?line=18'>19</a>\u001b[0m \u001b[39mwith\u001b[39;00m \u001b[39mopen\u001b[39m(name, typeOfFile) \u001b[39mas\u001b[39;00m f:\n\u001b[0;32m     <a href='vscode-notebook-cell:/c%3A/homework/python/TMIL/sturdy-octo-spork/yolodemo.ipynb#ch0000000?line=19'>20</a>\u001b[0m     \u001b[39mprint\u001b[39m(\u001b[39mtype\u001b[39m(r\u001b[39m.\u001b[39mcontent))\n\u001b[1;32m---> <a href='vscode-notebook-cell:/c%3A/homework/python/TMIL/sturdy-octo-spork/yolodemo.ipynb#ch0000000?line=20'>21</a>\u001b[0m     f\u001b[39m.\u001b[39;49mwrite(r\u001b[39m.\u001b[39;49mcontent)\n",
      "\u001b[1;31mTypeError\u001b[0m: write() argument must be str, not bytes"
     ]
    }
   ],
   "source": [
    "import cv2\n",
    "import numpy as np\n",
    "import keyboard\n",
    "import requests\n",
    "import os\n",
    "\n",
    "path = r'F:\\Users\\admin\\Downloads\\74.mp4'#TODO #1 :изменить на путь к датасету.\n",
    "\n",
    "cap = cv2.VideoCapture(path)#для вывода видео\n",
    "\n",
    "whT = 320#idk what is that\n",
    "confThreshold = 0.5\n",
    "nmsThreshold = 0.3\n",
    "\n",
    "links=[['https://pjreddie.com/media/files/yolov3-spp.weights', 'wb', 'yolov3-spp.weights'], ['https://github.com/pjreddie/darknet/raw/master/data/coco.names', 'w', 'coco.names'], ['https://github.com/pjreddie/darknet/raw/master/cfg/yolov3-spp.cfg', 'w', 'yolov3-spp.cfg']]\n",
    "#Проверка на наличие нужных файлов\n",
    "def downloadFiles(link, name, typeOfFile):\n",
    "    r = requests.get(link, allow_redirects=True)\n",
    "    with open(name, typeOfFile) as f:\n",
    "        print(type(r.content))\n",
    "        f.write(r.content)\n",
    "\n",
    "for i in links:\n",
    "    if(not os.path.exists(f'./{i[2]}')):\n",
    "        downloadFiles(i[0],i[2],i[1])\n",
    "        \n",
    "\n",
    "classesFile = 'coco.names'#для классов YOLO штука (чтобы искать не только котов, а и машин, например)\n",
    "classNames = []\n",
    "with open(classesFile, 'rt') as f:\n",
    "    classNames = f.read().rstrip('\\n').split('\\n')\n",
    "\n",
    "modelConfiguration = 'yolov3-spp.cfg'#подгрузка YOLO3-spp\n",
    "modelWeights = 'yolov3-spp.weights'\n",
    "net = cv2.dnn.readNetFromDarknet(modelConfiguration, modelWeights)\n",
    "net.setPreferableBackend(cv2.dnn.DNN_BACKEND_OPENCV)\n",
    "net.setPreferableTarget(cv2.dnn.DNN_TARGET_CPU)\n",
    "\n",
    "# #функция, для нахождения котиков UwU :з\n",
    "# def findObjects(outputs,img):\n",
    "#     hT, wT, cT = img.shape\n",
    "#     bbox = []\n",
    "#     classIds = []\n",
    "#     confs = []\n",
    "\n",
    "#     for output in outputs:\n",
    "#         for det in output:\n",
    "#             scores = det[5:]\n",
    "#             classId = np.argmax(scores)\n",
    "#             confidence = scores[classId]\n",
    "#             if confidence > confThreshold:\n",
    "#                 w, h = int (det[2] * wT), int (det[3] * hT)\n",
    "#                 x, y = int (det[0] * wT) - w / 2, int (det[1] * hT) - h / 2\n",
    "#                 bbox.append([x,y,w,h])\n",
    "#                 classIds.append(classId)\n",
    "#                 confs.append(float(confidence))\n",
    "#     indices = cv2.dnn.NMSBoxes(bbox, confs, confThreshold, nmsThreshold)\n",
    "#     for i in indices:\n",
    "#         if(classNames[classIds[i]]=='cat'):\n",
    "#             box = bbox[i]\n",
    "#             x, y, w, h = box[0], box[1], box[2], box[3]\n",
    "#             cv2.rectangle(img, (int(x),int(y)), (int(x+w), int(y+h)), (255, 0, 0), 2)\n",
    "#             cv2.putText(img, f'Cat {int(confs[i]*100)}%',(int(x),int(y-10)), cv2.FONT_HERSHEY_SIMPLEX,0.6,(255,0,255),2)\n",
    "\n",
    "# while True:\n",
    "#     #TODO #2 изменить на while ролик не кончился *idk how btw*\n",
    "#     success, img = cap.read()\n",
    "    \n",
    "#     blob = cv2.dnn.blobFromImage(img, 1/255,(whT,whT),[0,0,0],1,crop=False)\n",
    "#     net.setInput(blob)\n",
    "#     layerNames = net.getLayerNames()\n",
    "#     outputNames = [layerNames[i-1] for i in net.getUnconnectedOutLayers()]\n",
    "#     outputs = net.forward(outputNames)\n",
    "\n",
    "#     findObjects(outputs,img)\n",
    "\n",
    "#     cv2.imshow('Image',img)\n",
    "#     cv2.waitKey(1)\n",
    "    \n",
    "#     if keyboard.is_pressed(\"q\"):##если не сделать TODO #2, то при нажатии q уберутся все окна и выполнение программы завершится.\n",
    "#         cv2.destroyAllWindows()\n",
    "#         break"
   ]
  }
 ],
 "metadata": {
  "interpreter": {
   "hash": "91de9dface688b0dd20a3085c2ed00be818e7f2a4078c14d79ed11bf27ab375d"
  },
  "kernelspec": {
   "display_name": "Python 3.10.2 64-bit",
   "language": "python",
   "name": "python3"
  },
  "language_info": {
   "codemirror_mode": {
    "name": "ipython",
    "version": 3
   },
   "file_extension": ".py",
   "mimetype": "text/x-python",
   "name": "python",
   "nbconvert_exporter": "python",
   "pygments_lexer": "ipython3",
   "version": "3.10.2"
  },
  "orig_nbformat": 4
 },
 "nbformat": 4,
 "nbformat_minor": 2
}
